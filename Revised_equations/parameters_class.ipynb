{
 "cells": [
  {
   "cell_type": "code",
   "execution_count": null,
   "metadata": {},
   "outputs": [],
   "source": [
    "class Parameters_class:\n",
    "    def __init__(self, b1, b2, alpha11, alpha22, alpha12, alpha21, z_m1_initial, z_m2_initial, initial_population_species_1, initial_population_species_2, conspecfic_mating_rate_multiplier_sp_1, conspecfic_mating_rate_multiplier_sp_2, mean_heterospecifc_permissivness_females_sp_1, mean_heterospecifc_permissivness_females_sp_2, V_A1, V_A2, num_generations):\n",
    "        \n",
    "        \"\"\"\n",
    "        Initializes the Parameters_class with ecological, reproductive interference,\n",
    "        evolvability, and simulation parameters for two interacting species.\n",
    "\n",
    "        Parameters:\n",
    "            b1: Birth rate of species 1.\n",
    "            b2: Birth rate of species 2.\n",
    "            alpha11: Intraspecific competition coefficient for species 1.\n",
    "            alpha22: Intraspecific competition coefficient for species 2.\n",
    "            alpha12: Interspecific competition coefficient (effect of species 2 on species 1).\n",
    "            alpha21: Interspecific competition coefficient (effect of species 1 on species 2).\n",
    "            z_m1_initial: Initial mean male discrimination trait for species 1.\n",
    "            z_m2_initial: Initial mean male discrimination trait for species 2.\n",
    "            initial_population_species_1: Initial population size of species 1.\n",
    "            initial_population_species_2: Initial population size of species 2.\n",
    "            conspecfic_mating_rate_multiplier_sp_1: Multiplier for conspecific mating rate of species 1 based on heterospecific discrimination.\n",
    "            conspecfic_mating_rate_multiplier_sp_2: Multiplier for conspecific mating rate of species 2 based on heterospecific discrimination.\n",
    "            mean_heterospecifc_permissivness_females_sp_1: Mean permissiveness of female individuals in species 1 towards heterospecific males.\n",
    "            mean_heterospecifc_permissivness_females_sp_2: Mean permissiveness of female individuals in species 2 towards heterospecific males.\n",
    "            V_A1: Evolvability (genetic variance) of species 1.\n",
    "            V_A2: Evolvability (genetic variance) of species 2.\n",
    "            num_generations: Total number of generations to simulate. \n",
    "            \n",
    "        \"\"\"\n",
    "        '''ecology terms'''\n",
    "    \n",
    "        self.b1 = b1   #birth rates of the two species\n",
    "        self.b2 = b2\n",
    "\n",
    "        self.alpha11 = alpha11    #intraspecific competition sp. 11\n",
    "        self.alpha22 = alpha22    #intraspecific competition sp. 22\n",
    "        self.alpha12 = alpha12    #interspecific competetitive effect sp.2 on sp.1\n",
    "        self.alpha21 = alpha21    #interspecific competetitive effect sp.1 on sp.2\n",
    "\n",
    "        self.initial_population_species_1 = initial_population_species_1\n",
    "        self.initial_population_species_2 = initial_population_species_2\n",
    "\n",
    "        '''reproductive interference terms'''\n",
    "\n",
    "        self.conspecfic_mating_rate_multiplier_sp_1 = conspecfic_mating_rate_multiplier_sp_1  #multiplier taht tells how much conspecfic mating rate increases for increase in unit heterospecfic discrimination\n",
    "        self.conspecfic_mating_rate_multiplier_sp_2 = conspecfic_mating_rate_multiplier_sp_2  #multiplier taht tells how much conspecfic mating rate increases for increase in unit heterospecfic discrimination\n",
    "\n",
    "\n",
    "        self.z_m1_initial = z_m1_initial  #mean male discrimination of species 1\n",
    "        self.z_m2_initial = z_m2_initial  #mean male discrimination of species 2\n",
    "        \n",
    "        self.mean_heterospecifc_permissivness_females_sp_1 = mean_heterospecifc_permissivness_females_sp_1\n",
    "        self.mean_heterospecifc_permissivness_females_sp_2 = mean_heterospecifc_permissivness_females_sp_2\n",
    "\n",
    "        '''evolvability terms'''\n",
    "\n",
    "        self.V_A1 = V_A1\n",
    "        self.V_A2 = V_A2\n",
    "\n",
    "        '''other simulation terms'''\n",
    "        self.num_generations = num_generations"
   ]
  },
  {
   "cell_type": "code",
   "execution_count": null,
   "metadata": {
    "vscode": {
     "languageId": "ruby"
    }
   },
   "outputs": [],
   "source": []
  }
 ],
 "metadata": {
  "kernelspec": {
   "display_name": "Python 3",
   "language": "python",
   "name": "python3"
  },
  "language_info": {
   "codemirror_mode": {
    "name": "ipython",
    "version": 3
   },
   "file_extension": ".py",
   "mimetype": "text/x-python",
   "name": "python",
   "nbconvert_exporter": "python",
   "pygments_lexer": "ipython3",
   "version": "3.12.1"
  }
 },
 "nbformat": 4,
 "nbformat_minor": 2
}

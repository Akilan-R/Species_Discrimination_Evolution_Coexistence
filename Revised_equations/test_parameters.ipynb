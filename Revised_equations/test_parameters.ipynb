{
 "cells": [
  {
   "cell_type": "code",
   "execution_count": 10,
   "metadata": {},
   "outputs": [],
   "source": [
    "# %run parameters_class.ipynb\n",
    "\n",
    "%run \"D://Personal Projects//Species_Discrimination_Evolution_Coexistence//Revised_equations//parameters_class.ipynb\"\n"
   ]
  },
  {
   "cell_type": "code",
   "execution_count": 11,
   "metadata": {},
   "outputs": [],
   "source": [
    "'''\n",
    "The base paramters for running the simulation are defined here\n",
    "'''\n",
    "\n",
    "# Instantiate an object of the Parameters_class with the base parameters for the model\n",
    "base_parameters = Parameters_class(\n",
    "    b1 = 100,     # Birth rate of species 1\n",
    "    b2 = 100,     # Birth rate of species 2\n",
    "    \n",
    "    alpha11 = 0.05,    # Intraspecific competition coefficient for species 1\n",
    "    alpha22 = 0.05,    # Intraspecific competition coefficient for species 2\n",
    "    alpha12 = 0.025,     # Interspecific competition coefficient of species 2 on species 1\n",
    "    alpha21 = 0.025,     # Interspecific competition coefficient of species 1 on species 2\n",
    "    \n",
    "    z_m1_initial = 0,  # Initial value for male trait in species 1 (e.g., discrimination level)\n",
    "    z_m2_initial = 0,  # Initial value for male trait in species 2 (e.g., discrimination level)\n",
    "    \n",
    "    initial_population_species_1 = 100,   # Initial population size of species 1\n",
    "    initial_population_species_2 = 100,   # Initial population size of species 2\n",
    "    \n",
    "    conspecfic_mating_rate_multiplier_sp_1 = 1,  # Multiplier for conspecific (within species) mating rate in species 1\n",
    "    conspecfic_mating_rate_multiplier_sp_2 = 1,  # Multiplier for conspecific (within species) mating rate in species 2\n",
    "    \n",
    "    mean_heterospecifc_permissivness_females_sp_1 = 1,  # Mean permissiveness of females in species 1 to heterospecific (different species) males\n",
    "    mean_heterospecifc_permissivness_females_sp_2 = 1,  # Mean permissiveness of females in species 2 to heterospecific (different species) males\n",
    "    \n",
    "    V_A1 = 0.01,   # Additive genetic variance for a trait in species 1\n",
    "    V_A2 = 0.20,   # Additive genetic variance for a trait in species 2\n",
    "    \n",
    "    num_generations = 1000  # Number of generations to simulate\n",
    ")\n",
    "\n",
    "# End of parameters definition\n"
   ]
  },
  {
   "cell_type": "code",
   "execution_count": 12,
   "metadata": {},
   "outputs": [],
   "source": [
    "'''The \"parameters for analysis class\" uses the base parameters, but allows for the them to overriden with new values. \n",
    "This is particulary useful when running simulationns where a few parameters are modified, but the rest are retained in their base values'''\n",
    "\n",
    "class Parameters_for_Analysis:\n",
    "    def __init__(self, base_parameters, **kwargs):\n",
    "\n",
    "        # Override defaults with provided kwargs, using base_parameters as defaults\n",
    "        self.b1 = kwargs.get('b1', base_parameters.b1)\n",
    "        self.b2 = kwargs.get('b2', base_parameters.b2)\n",
    "        self.alpha11 = kwargs.get('alpha11', base_parameters.alpha11)\n",
    "        self.alpha22 = kwargs.get('alpha22', base_parameters.alpha22)\n",
    "        self.alpha12 = kwargs.get('alpha12', base_parameters.alpha12)\n",
    "        self.alpha21 = kwargs.get('alpha21', base_parameters.alpha21)\n",
    "        self.initial_population_species_1 = kwargs.get('initial_population_species_1', base_parameters.initial_population_species_1)\n",
    "        self.initial_population_species_2 = kwargs.get('initial_population_species_2', base_parameters.initial_population_species_2)\n",
    "\n",
    "\n",
    "        self.z_m1_initial = kwargs.get('z_m1_initial', base_parameters.z_m1_initial)\n",
    "        self.z_m2_initial = kwargs.get('z_m2_initial', base_parameters.z_m2_initial)\n",
    "       \n",
    "        self.conspecfic_mating_rate_multiplier_sp_1 = kwargs.get('conspecfic_mating_rate_multiplier_sp_1', base_parameters.conspecfic_mating_rate_multiplier_sp_1)\n",
    "        self.conspecfic_mating_rate_multiplier_sp_2 = kwargs.get('conspecfic_mating_rate_multiplier_sp_2', base_parameters.conspecfic_mating_rate_multiplier_sp_2)\n",
    "        \n",
    "        self.mean_heterospecifc_permissivness_females_sp_1 = kwargs.get('mean_heterospecifc_permissivness_females_sp_1', base_parameters.mean_heterospecifc_permissivness_females_sp_1)\n",
    "        self.mean_heterospecifc_permissivness_females_sp_2 = kwargs.get('mean_heterospecifc_permissivness_females_sp_2', base_parameters.mean_heterospecifc_permissivness_females_sp_2)\n",
    "\n",
    "        self.V_A1 = kwargs.get('V_A1', base_parameters.V_A1)\n",
    "        self.V_A2 = kwargs.get('V_A2', base_parameters.V_A2)\n",
    "        self.num_generations = kwargs.get('num_generations', base_parameters.num_generations)"
   ]
  }
 ],
 "metadata": {
  "kernelspec": {
   "display_name": "Python 3",
   "language": "python",
   "name": "python3"
  },
  "language_info": {
   "codemirror_mode": {
    "name": "ipython",
    "version": 3
   },
   "file_extension": ".py",
   "mimetype": "text/x-python",
   "name": "python",
   "nbconvert_exporter": "python",
   "pygments_lexer": "ipython3",
   "version": "3.12.1"
  }
 },
 "nbformat": 4,
 "nbformat_minor": 2
}

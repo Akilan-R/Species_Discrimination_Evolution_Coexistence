{
 "cells": [
  {
   "cell_type": "code",
   "execution_count": 1,
   "metadata": {},
   "outputs": [],
   "source": [
    "# %run packages_import.ipynb  \n",
    "# %run parameters_class.ipynb  \n",
    "# %run simulation_class.ipynb  \n",
    "# %run base_parameters_2.ipynb import base_parameters #import all the base paamters that you define\n",
    "# %run base_parameters_2.ipynb import Parameters_for_Analysis #import parameters for analyis function where you keep the base parameters fixed and modify the rest\n",
    "%run \"D://Personal Projects//Species_Discrimination_Evolution_Coexistence//Revised_equations//packages_import.ipynb\"    #import all necessary packages - numpy, pandas etc\n",
    "%run \"D://Personal Projects//Species_Discrimination_Evolution_Coexistence//Revised_equations//parameters_class.ipynb\"                                                                                                  #import the parameters class and the base paramters object\n",
    "%run \"D://Personal Projects//Species_Discrimination_Evolution_Coexistence//Revised_equations//simulation_class.ipynb\"   \n",
    "%run \"D://Personal Projects//Species_Discrimination_Evolution_Coexistence//Revised_equations//outcome_stats_and_plots.ipynb\"                                                                                               #import the class that runs the simulation                                                                                            #import the class that runs the simulation                                                                                         #import the class that runs the simulation                                                                                            #import the class that runs the simulation\n",
    "%run \"D://Personal Projects//Species_Discrimination_Evolution_Coexistence//Revised_equations//Stable_Ecological_Competition//base_parameters_2.ipynb\" import base_parameters\n",
    "%run \"D://Personal Projects//Species_Discrimination_Evolution_Coexistence//Revised_equations/Stable_Ecological_Competition//base_parameters_2.ipynb\" import Parameters_for_Analysis"
   ]
  },
  {
   "cell_type": "code",
   "execution_count": 3,
   "metadata": {},
   "outputs": [
    {
     "data": {
      "application/vnd.plotly.v1+json": {
       "config": {
        "plotlyServerURL": "https://plot.ly"
       },
       "data": [
        {
         "colorbar": {
          "ticktext": [
           "sp 2 (high-genetic-var) wins, sp 1 (low-genetic-var) extinct",
           "sp 1 (low-genetic-var) wins, sp 2 (high-genetic-var) extinct",
           "both extinct",
           "both coexist"
          ],
          "tickvals": [
           0,
           1,
           2,
           3
          ]
         },
         "colorscale": [
          [
           0,
           "red"
          ],
          [
           0.3333333333333333,
           "blue"
          ],
          [
           0.6666666666666666,
           "black"
          ],
          [
           1,
           "green"
          ]
         ],
         "showscale": false,
         "type": "heatmap",
         "x": [
          0,
          0.1,
          0.2,
          0.30000000000000004,
          0.4,
          0.5,
          0.6000000000000001,
          0.7000000000000001,
          0.8,
          0.9
         ],
         "y": [
          1,
          1.1547819846894583,
          1.333521432163324,
          1.539926526059492,
          1.7782794100389228,
          2.0535250264571463,
          2.371373705661655,
          2.7384196342643614,
          3.1622776601683795,
          3.651741272548377,
          4.216965034285822,
          4.869675251658631,
          5.623413251903491,
          6.493816315762113,
          7.498942093324558,
          8.659643233600654,
          10,
          11.547819846894582,
          13.33521432163324,
          15.39926526059492,
          17.78279410038923,
          20.53525026457146,
          23.71373705661655,
          27.384196342643612,
          31.622776601683793,
          36.51741272548377,
          42.169650342858226,
          48.69675251658631,
          56.23413251903491,
          64.93816315762113,
          74.98942093324558,
          86.59643233600653,
          100,
          115.47819846894582,
          133.3521432163324,
          153.9926526059492,
          177.82794100389228,
          205.3525026457146,
          237.13737056616552,
          273.8419634264361,
          316.22776601683796,
          365.1741272548377,
          421.6965034285823,
          486.9675251658631,
          562.341325190349,
          649.3816315762114,
          749.8942093324558,
          865.9643233600654
         ],
         "z": [
          [
           3,
           0,
           0,
           0,
           0,
           0,
           0,
           0,
           0,
           0
          ],
          [
           1,
           0,
           0,
           0,
           0,
           0,
           0,
           0,
           0,
           0
          ],
          [
           1,
           0,
           0,
           0,
           0,
           0,
           0,
           0,
           0,
           0
          ],
          [
           1,
           0,
           0,
           0,
           0,
           0,
           0,
           0,
           0,
           0
          ],
          [
           1,
           0,
           0,
           0,
           0,
           0,
           0,
           0,
           0,
           0
          ],
          [
           1,
           0,
           0,
           0,
           0,
           0,
           0,
           0,
           0,
           0
          ],
          [
           1,
           0,
           0,
           0,
           0,
           0,
           0,
           0,
           0,
           0
          ],
          [
           1,
           0,
           0,
           0,
           0,
           0,
           0,
           0,
           0,
           0
          ],
          [
           1,
           0,
           0,
           0,
           0,
           0,
           0,
           0,
           0,
           0
          ],
          [
           1,
           0,
           0,
           0,
           0,
           0,
           0,
           0,
           0,
           0
          ],
          [
           1,
           0,
           0,
           0,
           0,
           0,
           0,
           0,
           0,
           0
          ],
          [
           1,
           0,
           0,
           0,
           0,
           0,
           0,
           0,
           0,
           0
          ],
          [
           1,
           0,
           0,
           0,
           0,
           0,
           0,
           0,
           0,
           0
          ],
          [
           1,
           0,
           0,
           0,
           0,
           0,
           0,
           0,
           0,
           0
          ],
          [
           1,
           1,
           0,
           0,
           0,
           0,
           0,
           0,
           0,
           0
          ],
          [
           1,
           1,
           0,
           0,
           0,
           0,
           0,
           0,
           0,
           0
          ],
          [
           1,
           1,
           0,
           0,
           0,
           0,
           0,
           0,
           0,
           0
          ],
          [
           1,
           1,
           1,
           0,
           0,
           0,
           0,
           0,
           0,
           0
          ],
          [
           1,
           1,
           1,
           1,
           0,
           0,
           0,
           0,
           0,
           0
          ],
          [
           1,
           1,
           1,
           1,
           1,
           1,
           0,
           0,
           0,
           0
          ],
          [
           1,
           1,
           1,
           1,
           1,
           1,
           3,
           3,
           0,
           0
          ],
          [
           1,
           1,
           1,
           1,
           1,
           1,
           1,
           3,
           3,
           3
          ],
          [
           1,
           1,
           1,
           1,
           1,
           1,
           1,
           3,
           3,
           3
          ],
          [
           1,
           1,
           1,
           1,
           1,
           1,
           1,
           3,
           3,
           3
          ],
          [
           1,
           1,
           1,
           1,
           1,
           1,
           1,
           3,
           3,
           3
          ],
          [
           1,
           1,
           1,
           1,
           1,
           1,
           1,
           3,
           3,
           3
          ],
          [
           1,
           1,
           1,
           1,
           1,
           1,
           1,
           3,
           3,
           3
          ],
          [
           1,
           1,
           1,
           1,
           1,
           1,
           1,
           3,
           3,
           3
          ],
          [
           1,
           1,
           1,
           1,
           1,
           1,
           1,
           3,
           3,
           3
          ],
          [
           1,
           1,
           1,
           1,
           1,
           1,
           1,
           3,
           3,
           3
          ],
          [
           1,
           1,
           1,
           1,
           1,
           1,
           1,
           3,
           3,
           3
          ],
          [
           1,
           1,
           1,
           1,
           1,
           1,
           1,
           3,
           3,
           3
          ],
          [
           1,
           1,
           1,
           1,
           1,
           1,
           1,
           3,
           3,
           3
          ],
          [
           1,
           1,
           1,
           1,
           1,
           1,
           1,
           3,
           3,
           3
          ],
          [
           1,
           1,
           1,
           1,
           1,
           1,
           1,
           3,
           3,
           3
          ],
          [
           1,
           1,
           1,
           1,
           1,
           1,
           1,
           3,
           3,
           3
          ],
          [
           1,
           1,
           1,
           1,
           1,
           1,
           1,
           3,
           3,
           3
          ],
          [
           1,
           1,
           1,
           1,
           1,
           1,
           1,
           3,
           3,
           3
          ],
          [
           1,
           1,
           1,
           1,
           1,
           1,
           1,
           3,
           3,
           3
          ],
          [
           1,
           1,
           1,
           1,
           1,
           1,
           1,
           3,
           3,
           3
          ],
          [
           1,
           1,
           1,
           1,
           1,
           1,
           1,
           3,
           3,
           3
          ],
          [
           1,
           1,
           1,
           1,
           1,
           1,
           1,
           3,
           3,
           3
          ],
          [
           1,
           1,
           1,
           1,
           1,
           1,
           1,
           3,
           3,
           3
          ],
          [
           1,
           1,
           1,
           1,
           1,
           1,
           1,
           3,
           3,
           3
          ],
          [
           1,
           1,
           1,
           1,
           1,
           1,
           1,
           3,
           3,
           3
          ],
          [
           1,
           1,
           1,
           1,
           1,
           1,
           1,
           3,
           3,
           3
          ],
          [
           1,
           1,
           1,
           1,
           1,
           1,
           1,
           3,
           3,
           3
          ],
          [
           1,
           1,
           1,
           1,
           1,
           1,
           1,
           3,
           3,
           3
          ]
         ]
        },
        {
         "marker": {
          "color": "red"
         },
         "mode": "markers",
         "name": "Slow evolver extinct",
         "showlegend": true,
         "type": "scatter",
         "x": [
          null
         ],
         "y": [
          null
         ]
        },
        {
         "marker": {
          "color": "blue"
         },
         "mode": "markers",
         "name": "Fast evolver extinct",
         "showlegend": true,
         "type": "scatter",
         "x": [
          null
         ],
         "y": [
          null
         ]
        },
        {
         "marker": {
          "color": "green"
         },
         "mode": "markers",
         "name": "Both coexist",
         "showlegend": true,
         "type": "scatter",
         "x": [
          null
         ],
         "y": [
          null
         ]
        },
        {
         "marker": {
          "color": "black"
         },
         "mode": "markers",
         "name": "Both extinct",
         "showlegend": true,
         "type": "scatter",
         "x": [
          null
         ],
         "y": [
          null
         ]
        }
       ],
       "layout": {
        "height": 800,
        "template": {
         "data": {
          "bar": [
           {
            "error_x": {
             "color": "#2a3f5f"
            },
            "error_y": {
             "color": "#2a3f5f"
            },
            "marker": {
             "line": {
              "color": "#E5ECF6",
              "width": 0.5
             },
             "pattern": {
              "fillmode": "overlay",
              "size": 10,
              "solidity": 0.2
             }
            },
            "type": "bar"
           }
          ],
          "barpolar": [
           {
            "marker": {
             "line": {
              "color": "#E5ECF6",
              "width": 0.5
             },
             "pattern": {
              "fillmode": "overlay",
              "size": 10,
              "solidity": 0.2
             }
            },
            "type": "barpolar"
           }
          ],
          "carpet": [
           {
            "aaxis": {
             "endlinecolor": "#2a3f5f",
             "gridcolor": "white",
             "linecolor": "white",
             "minorgridcolor": "white",
             "startlinecolor": "#2a3f5f"
            },
            "baxis": {
             "endlinecolor": "#2a3f5f",
             "gridcolor": "white",
             "linecolor": "white",
             "minorgridcolor": "white",
             "startlinecolor": "#2a3f5f"
            },
            "type": "carpet"
           }
          ],
          "choropleth": [
           {
            "colorbar": {
             "outlinewidth": 0,
             "ticks": ""
            },
            "type": "choropleth"
           }
          ],
          "contour": [
           {
            "colorbar": {
             "outlinewidth": 0,
             "ticks": ""
            },
            "colorscale": [
             [
              0,
              "#0d0887"
             ],
             [
              0.1111111111111111,
              "#46039f"
             ],
             [
              0.2222222222222222,
              "#7201a8"
             ],
             [
              0.3333333333333333,
              "#9c179e"
             ],
             [
              0.4444444444444444,
              "#bd3786"
             ],
             [
              0.5555555555555556,
              "#d8576b"
             ],
             [
              0.6666666666666666,
              "#ed7953"
             ],
             [
              0.7777777777777778,
              "#fb9f3a"
             ],
             [
              0.8888888888888888,
              "#fdca26"
             ],
             [
              1,
              "#f0f921"
             ]
            ],
            "type": "contour"
           }
          ],
          "contourcarpet": [
           {
            "colorbar": {
             "outlinewidth": 0,
             "ticks": ""
            },
            "type": "contourcarpet"
           }
          ],
          "heatmap": [
           {
            "colorbar": {
             "outlinewidth": 0,
             "ticks": ""
            },
            "colorscale": [
             [
              0,
              "#0d0887"
             ],
             [
              0.1111111111111111,
              "#46039f"
             ],
             [
              0.2222222222222222,
              "#7201a8"
             ],
             [
              0.3333333333333333,
              "#9c179e"
             ],
             [
              0.4444444444444444,
              "#bd3786"
             ],
             [
              0.5555555555555556,
              "#d8576b"
             ],
             [
              0.6666666666666666,
              "#ed7953"
             ],
             [
              0.7777777777777778,
              "#fb9f3a"
             ],
             [
              0.8888888888888888,
              "#fdca26"
             ],
             [
              1,
              "#f0f921"
             ]
            ],
            "type": "heatmap"
           }
          ],
          "heatmapgl": [
           {
            "colorbar": {
             "outlinewidth": 0,
             "ticks": ""
            },
            "colorscale": [
             [
              0,
              "#0d0887"
             ],
             [
              0.1111111111111111,
              "#46039f"
             ],
             [
              0.2222222222222222,
              "#7201a8"
             ],
             [
              0.3333333333333333,
              "#9c179e"
             ],
             [
              0.4444444444444444,
              "#bd3786"
             ],
             [
              0.5555555555555556,
              "#d8576b"
             ],
             [
              0.6666666666666666,
              "#ed7953"
             ],
             [
              0.7777777777777778,
              "#fb9f3a"
             ],
             [
              0.8888888888888888,
              "#fdca26"
             ],
             [
              1,
              "#f0f921"
             ]
            ],
            "type": "heatmapgl"
           }
          ],
          "histogram": [
           {
            "marker": {
             "pattern": {
              "fillmode": "overlay",
              "size": 10,
              "solidity": 0.2
             }
            },
            "type": "histogram"
           }
          ],
          "histogram2d": [
           {
            "colorbar": {
             "outlinewidth": 0,
             "ticks": ""
            },
            "colorscale": [
             [
              0,
              "#0d0887"
             ],
             [
              0.1111111111111111,
              "#46039f"
             ],
             [
              0.2222222222222222,
              "#7201a8"
             ],
             [
              0.3333333333333333,
              "#9c179e"
             ],
             [
              0.4444444444444444,
              "#bd3786"
             ],
             [
              0.5555555555555556,
              "#d8576b"
             ],
             [
              0.6666666666666666,
              "#ed7953"
             ],
             [
              0.7777777777777778,
              "#fb9f3a"
             ],
             [
              0.8888888888888888,
              "#fdca26"
             ],
             [
              1,
              "#f0f921"
             ]
            ],
            "type": "histogram2d"
           }
          ],
          "histogram2dcontour": [
           {
            "colorbar": {
             "outlinewidth": 0,
             "ticks": ""
            },
            "colorscale": [
             [
              0,
              "#0d0887"
             ],
             [
              0.1111111111111111,
              "#46039f"
             ],
             [
              0.2222222222222222,
              "#7201a8"
             ],
             [
              0.3333333333333333,
              "#9c179e"
             ],
             [
              0.4444444444444444,
              "#bd3786"
             ],
             [
              0.5555555555555556,
              "#d8576b"
             ],
             [
              0.6666666666666666,
              "#ed7953"
             ],
             [
              0.7777777777777778,
              "#fb9f3a"
             ],
             [
              0.8888888888888888,
              "#fdca26"
             ],
             [
              1,
              "#f0f921"
             ]
            ],
            "type": "histogram2dcontour"
           }
          ],
          "mesh3d": [
           {
            "colorbar": {
             "outlinewidth": 0,
             "ticks": ""
            },
            "type": "mesh3d"
           }
          ],
          "parcoords": [
           {
            "line": {
             "colorbar": {
              "outlinewidth": 0,
              "ticks": ""
             }
            },
            "type": "parcoords"
           }
          ],
          "pie": [
           {
            "automargin": true,
            "type": "pie"
           }
          ],
          "scatter": [
           {
            "fillpattern": {
             "fillmode": "overlay",
             "size": 10,
             "solidity": 0.2
            },
            "type": "scatter"
           }
          ],
          "scatter3d": [
           {
            "line": {
             "colorbar": {
              "outlinewidth": 0,
              "ticks": ""
             }
            },
            "marker": {
             "colorbar": {
              "outlinewidth": 0,
              "ticks": ""
             }
            },
            "type": "scatter3d"
           }
          ],
          "scattercarpet": [
           {
            "marker": {
             "colorbar": {
              "outlinewidth": 0,
              "ticks": ""
             }
            },
            "type": "scattercarpet"
           }
          ],
          "scattergeo": [
           {
            "marker": {
             "colorbar": {
              "outlinewidth": 0,
              "ticks": ""
             }
            },
            "type": "scattergeo"
           }
          ],
          "scattergl": [
           {
            "marker": {
             "colorbar": {
              "outlinewidth": 0,
              "ticks": ""
             }
            },
            "type": "scattergl"
           }
          ],
          "scattermapbox": [
           {
            "marker": {
             "colorbar": {
              "outlinewidth": 0,
              "ticks": ""
             }
            },
            "type": "scattermapbox"
           }
          ],
          "scatterpolar": [
           {
            "marker": {
             "colorbar": {
              "outlinewidth": 0,
              "ticks": ""
             }
            },
            "type": "scatterpolar"
           }
          ],
          "scatterpolargl": [
           {
            "marker": {
             "colorbar": {
              "outlinewidth": 0,
              "ticks": ""
             }
            },
            "type": "scatterpolargl"
           }
          ],
          "scatterternary": [
           {
            "marker": {
             "colorbar": {
              "outlinewidth": 0,
              "ticks": ""
             }
            },
            "type": "scatterternary"
           }
          ],
          "surface": [
           {
            "colorbar": {
             "outlinewidth": 0,
             "ticks": ""
            },
            "colorscale": [
             [
              0,
              "#0d0887"
             ],
             [
              0.1111111111111111,
              "#46039f"
             ],
             [
              0.2222222222222222,
              "#7201a8"
             ],
             [
              0.3333333333333333,
              "#9c179e"
             ],
             [
              0.4444444444444444,
              "#bd3786"
             ],
             [
              0.5555555555555556,
              "#d8576b"
             ],
             [
              0.6666666666666666,
              "#ed7953"
             ],
             [
              0.7777777777777778,
              "#fb9f3a"
             ],
             [
              0.8888888888888888,
              "#fdca26"
             ],
             [
              1,
              "#f0f921"
             ]
            ],
            "type": "surface"
           }
          ],
          "table": [
           {
            "cells": {
             "fill": {
              "color": "#EBF0F8"
             },
             "line": {
              "color": "white"
             }
            },
            "header": {
             "fill": {
              "color": "#C8D4E3"
             },
             "line": {
              "color": "white"
             }
            },
            "type": "table"
           }
          ]
         },
         "layout": {
          "annotationdefaults": {
           "arrowcolor": "#2a3f5f",
           "arrowhead": 0,
           "arrowwidth": 1
          },
          "autotypenumbers": "strict",
          "coloraxis": {
           "colorbar": {
            "outlinewidth": 0,
            "ticks": ""
           }
          },
          "colorscale": {
           "diverging": [
            [
             0,
             "#8e0152"
            ],
            [
             0.1,
             "#c51b7d"
            ],
            [
             0.2,
             "#de77ae"
            ],
            [
             0.3,
             "#f1b6da"
            ],
            [
             0.4,
             "#fde0ef"
            ],
            [
             0.5,
             "#f7f7f7"
            ],
            [
             0.6,
             "#e6f5d0"
            ],
            [
             0.7,
             "#b8e186"
            ],
            [
             0.8,
             "#7fbc41"
            ],
            [
             0.9,
             "#4d9221"
            ],
            [
             1,
             "#276419"
            ]
           ],
           "sequential": [
            [
             0,
             "#0d0887"
            ],
            [
             0.1111111111111111,
             "#46039f"
            ],
            [
             0.2222222222222222,
             "#7201a8"
            ],
            [
             0.3333333333333333,
             "#9c179e"
            ],
            [
             0.4444444444444444,
             "#bd3786"
            ],
            [
             0.5555555555555556,
             "#d8576b"
            ],
            [
             0.6666666666666666,
             "#ed7953"
            ],
            [
             0.7777777777777778,
             "#fb9f3a"
            ],
            [
             0.8888888888888888,
             "#fdca26"
            ],
            [
             1,
             "#f0f921"
            ]
           ],
           "sequentialminus": [
            [
             0,
             "#0d0887"
            ],
            [
             0.1111111111111111,
             "#46039f"
            ],
            [
             0.2222222222222222,
             "#7201a8"
            ],
            [
             0.3333333333333333,
             "#9c179e"
            ],
            [
             0.4444444444444444,
             "#bd3786"
            ],
            [
             0.5555555555555556,
             "#d8576b"
            ],
            [
             0.6666666666666666,
             "#ed7953"
            ],
            [
             0.7777777777777778,
             "#fb9f3a"
            ],
            [
             0.8888888888888888,
             "#fdca26"
            ],
            [
             1,
             "#f0f921"
            ]
           ]
          },
          "colorway": [
           "#636efa",
           "#EF553B",
           "#00cc96",
           "#ab63fa",
           "#FFA15A",
           "#19d3f3",
           "#FF6692",
           "#B6E880",
           "#FF97FF",
           "#FECB52"
          ],
          "font": {
           "color": "#2a3f5f"
          },
          "geo": {
           "bgcolor": "white",
           "lakecolor": "white",
           "landcolor": "#E5ECF6",
           "showlakes": true,
           "showland": true,
           "subunitcolor": "white"
          },
          "hoverlabel": {
           "align": "left"
          },
          "hovermode": "closest",
          "mapbox": {
           "style": "light"
          },
          "paper_bgcolor": "white",
          "plot_bgcolor": "#E5ECF6",
          "polar": {
           "angularaxis": {
            "gridcolor": "white",
            "linecolor": "white",
            "ticks": ""
           },
           "bgcolor": "#E5ECF6",
           "radialaxis": {
            "gridcolor": "white",
            "linecolor": "white",
            "ticks": ""
           }
          },
          "scene": {
           "xaxis": {
            "backgroundcolor": "#E5ECF6",
            "gridcolor": "white",
            "gridwidth": 2,
            "linecolor": "white",
            "showbackground": true,
            "ticks": "",
            "zerolinecolor": "white"
           },
           "yaxis": {
            "backgroundcolor": "#E5ECF6",
            "gridcolor": "white",
            "gridwidth": 2,
            "linecolor": "white",
            "showbackground": true,
            "ticks": "",
            "zerolinecolor": "white"
           },
           "zaxis": {
            "backgroundcolor": "#E5ECF6",
            "gridcolor": "white",
            "gridwidth": 2,
            "linecolor": "white",
            "showbackground": true,
            "ticks": "",
            "zerolinecolor": "white"
           }
          },
          "shapedefaults": {
           "line": {
            "color": "#2a3f5f"
           }
          },
          "ternary": {
           "aaxis": {
            "gridcolor": "white",
            "linecolor": "white",
            "ticks": ""
           },
           "baxis": {
            "gridcolor": "white",
            "linecolor": "white",
            "ticks": ""
           },
           "bgcolor": "#E5ECF6",
           "caxis": {
            "gridcolor": "white",
            "linecolor": "white",
            "ticks": ""
           }
          },
          "title": {
           "x": 0.05
          },
          "xaxis": {
           "automargin": true,
           "gridcolor": "white",
           "linecolor": "white",
           "ticks": "",
           "title": {
            "standoff": 15
           },
           "zerolinecolor": "white",
           "zerolinewidth": 2
          },
          "yaxis": {
           "automargin": true,
           "gridcolor": "white",
           "linecolor": "white",
           "ticks": "",
           "title": {
            "standoff": 15
           },
           "zerolinecolor": "white",
           "zerolinewidth": 2
          }
         }
        },
        "width": 1000,
        "xaxis": {
         "ticktext": [
          0,
          0.1,
          0.2,
          0.3,
          0.4,
          0.5,
          0.6,
          0.7,
          0.8,
          0.9
         ],
         "tickvals": [
          0,
          0.1,
          0.2,
          0.3,
          0.4,
          0.5,
          0.6,
          0.7,
          0.8,
          0.9
         ],
         "title": {
          "text": "Initial Discrimination Asymmetry (sp.2 - sp.1)"
         }
        },
        "yaxis": {
         "ticktext": [
          "1",
          "10",
          "100",
          "1000"
         ],
         "tickvals": [
          1,
          10,
          100,
          1000
         ],
         "title": {
          "text": "Evolvability Ratio [sp.2/sp.1] (log-scale)"
         },
         "type": "log"
        }
       }
      }
     },
     "metadata": {},
     "output_type": "display_data"
    }
   ],
   "source": [
    "'''2D sensitivity analysis - z_m1_initial - z_m2_initial,  and V_A2/V_A1 ratio'''\n",
    "\n",
    "\n",
    "def plot_2d_sensitivity_analysis_iniitial_z_vs_evolvability(z_m1_initial_z_m2_initial_difference_list, V_A2_V_A1_ratios, final_outcomes_matrix):\n",
    "    \n",
    "    \n",
    "    color_map = {\n",
    "        \"sp 2 (high-genetic-var) wins, sp 1 (low-genetic-var) extinct\": 0,\n",
    "        \"sp 1 (low-genetic-var) wins, sp 2 (high-genetic-var) extinct\": 1,\n",
    "        \"both extinct\": 2,\n",
    "        \"both coexist\": 3\n",
    "    }\n",
    "\n",
    "\n",
    "    reverse_color_map = {v: k for k, v in color_map.items()}\n",
    "\n",
    "    # Convert the final outcomes to numerical values\n",
    "    numerical_matrix = np.vectorize(color_map.get)(final_outcomes_matrix)\n",
    "\n",
    "    # Create the heatmap\n",
    "    heatmap = go.Heatmap(\n",
    "        z=numerical_matrix.T,  # Transpose the matrix to match the correct axis\n",
    "        x=z_m1_initial_z_m2_initial_difference_list,\n",
    "        y=V_A2_V_A1_ratios,\n",
    "        colorscale=[[0, 'red'], [1/3, 'blue'], [2/3, 'black'], [1, 'green']],\n",
    "        showscale = False,\n",
    "        colorbar=dict(\n",
    "            tickvals=[0, 1, 2, 3],\n",
    "            ticktext=list(color_map.keys()),\n",
    "        )\n",
    "    )\n",
    "\n",
    "    fig = go.Figure(data=[heatmap])\n",
    "\n",
    "\n",
    "\n",
    "    fig.update_layout(\n",
    "    \n",
    "\n",
    "        xaxis=dict(\n",
    "            title='Initial Discrimination Asymmetry (sp.2 - sp.1)',\n",
    "            tickvals = np.round(np.arange(0, 1, 0.1), 1),\n",
    "            ticktext = np.round(np.arange(0, 1, 0.1), 1)\n",
    "        ),\n",
    "        yaxis=dict(\n",
    "            title='Evolvability Ratio [sp.2/sp.1] (log-scale)',\n",
    "            type='log',\n",
    "            tickvals=[1, 10, 100, 1000],\n",
    "            ticktext=['1', '10', '100', '1000']\n",
    "        ),\n",
    "        template='plotly',\n",
    "        width=1000,\n",
    "        height=800,\n",
    "        )\n",
    "\n",
    "    # Adding legend manually\n",
    "    legend_labels = [\n",
    "        (\"Slow evolver extinct\", 'red'),\n",
    "        (\"Fast evolver extinct\", 'blue'),\n",
    "        ('Both coexist', 'green'),\n",
    "        ('Both extinct', 'black')\n",
    "    ]\n",
    "\n",
    "    for label, color in legend_labels:\n",
    "        fig.add_trace(go.Scatter(\n",
    "            x=[None], y=[None], mode='markers',\n",
    "            marker=dict(color=color),\n",
    "            showlegend=True,\n",
    "            name=label\n",
    "        ))\n",
    "\n",
    "    pio.show(fig)  # Use pio.show to display the plot\n",
    "\n",
    "def generate_parameters_with_varied_parameters(z_m1_initial_z_m2_initial_difference_list, V_A2_V_A1_ratios):\n",
    "    parameters_list = []\n",
    "    for z_m1_initial_z_m2_initial_difference in z_m1_initial_z_m2_initial_difference_list:\n",
    "        for V_A2_V_A1 in V_A2_V_A1_ratios:\n",
    "            parameters_dict = Parameters_for_Analysis(base_parameters = base_parameters, V_A1=0.01, V_A2=0.01).__dict__.copy()\n",
    "            parameters_dict['z_m1_initial'] = parameters_dict['z_m2_initial'] + z_m1_initial_z_m2_initial_difference\n",
    "            parameters_dict['V_A2'] = parameters_dict['V_A1'] * V_A2_V_A1\n",
    "            parameters = Parameters_for_Analysis(base_parameters = base_parameters, **parameters_dict)\n",
    "            parameters_list.append(parameters)\n",
    "    return parameters_list\n",
    "\n",
    "def run_sensitivity_analysis(parameters_list):\n",
    "    final_outcomes_list = []\n",
    "    for parameters in parameters_list:\n",
    "        final_outcome_instance = run_simulation_and_get_outcome_instance(parameters)\n",
    "        final_outcomes_list.append(final_outcome_instance.outcome)\n",
    "    return final_outcomes_list\n",
    "\n",
    "\n",
    "\n",
    "def main():\n",
    "    z_m1_initial_z_m2_initial_difference_list = np.arange(0, 1, 0.1)\n",
    "    V_A2_V_A1_powers = np.arange(0, 3, 0.0625)\n",
    "    \n",
    "    V_A2_V_A1_ratios = np.power(10.0, V_A2_V_A1_powers)\n",
    "    \n",
    "    parameters_list = generate_parameters_with_varied_parameters(z_m1_initial_z_m2_initial_difference_list, V_A2_V_A1_ratios)\n",
    "    final_outcomes_list = run_sensitivity_analysis(parameters_list)\n",
    "    \n",
    "    final_outcomes_matrix = np.array(final_outcomes_list).reshape(len(z_m1_initial_z_m2_initial_difference_list), len(V_A2_V_A1_ratios))\n",
    "    \n",
    "    plot_2d_sensitivity_analysis_iniitial_z_vs_evolvability(z_m1_initial_z_m2_initial_difference_list, V_A2_V_A1_ratios, final_outcomes_matrix)\n",
    "\n",
    "if __name__ == \"__main__\":\n",
    "    main()\n"
   ]
  },
  {
   "cell_type": "code",
   "execution_count": null,
   "metadata": {},
   "outputs": [],
   "source": [
    "'''2D sensitivity analysis - z_m1_initial - z_m2_initial,  and V_A2/V_A1 ratio'''\n",
    "\n",
    "\n",
    "def plot_2d_sensitivity_analysis_iniitial_z_vs_evolvability(z_m1_initial_z_m2_initial_difference_list, V_A2_V_A1_ratios, final_outcomes_matrix):\n",
    "    \n",
    "    \n",
    "    color_map = {\n",
    "        \"sp 2 (high-genetic-var) wins, sp 1 (low-genetic-var) extinct\": 0,\n",
    "        \"sp 1 (low-genetic-var) wins, sp 2 (high-genetic-var) extinct\": 1,\n",
    "        \"both extinct\": 2,\n",
    "        \"both coexist\": 3\n",
    "    }\n",
    "\n",
    "\n",
    "    reverse_color_map = {v: k for k, v in color_map.items()}\n",
    "\n",
    "    # Convert the final outcomes to numerical values\n",
    "    numerical_matrix = np.vectorize(color_map.get)(final_outcomes_matrix)\n",
    "\n",
    "    # Create the heatmap\n",
    "    heatmap = go.Heatmap(\n",
    "        z=numerical_matrix.T,  # Transpose the matrix to match the correct axis\n",
    "        x=z_m1_initial_z_m2_initial_difference_list,\n",
    "        y=V_A2_V_A1_ratios,\n",
    "        colorscale=[[0, 'red'], [1/3, 'blue'], [2/3, 'black'], [1, 'green']],\n",
    "        showscale = False,\n",
    "        colorbar=dict(\n",
    "            tickvals=[0, 1, 2, 3],\n",
    "            ticktext=list(color_map.keys()),\n",
    "        )\n",
    "    )\n",
    "\n",
    "    fig = go.Figure(data=[heatmap])\n",
    "\n",
    "\n",
    "\n",
    "    fig.update_layout(\n",
    "    \n",
    "\n",
    "        xaxis=dict(\n",
    "            title='Initial Discrimination Asymmetry (sp.2 - sp.1)',\n",
    "            tickvals = np.round(np.arange(0, 1, 0.1), 1),\n",
    "            ticktext = np.round(np.arange(0, 1, 0.1), 1)\n",
    "        ),\n",
    "        yaxis=dict(\n",
    "            title='Evolvability Ratio [sp.2/sp.1] (log-scale)',\n",
    "            type='log',\n",
    "            tickvals=[1, 10, 100, 1000],\n",
    "            ticktext=['1', '10', '100', '1000']\n",
    "        ),\n",
    "        template='plotly',\n",
    "        width=1000,\n",
    "        height=800,\n",
    "        )\n",
    "\n",
    "    # Adding legend manually\n",
    "    legend_labels = [\n",
    "        (\"Slow evolver extinct\", 'red'),\n",
    "        (\"Fast evolver extinct\", 'blue'),\n",
    "        ('Both coexist', 'green'),\n",
    "        ('Both extinct', 'black')\n",
    "    ]\n",
    "\n",
    "    for label, color in legend_labels:\n",
    "        fig.add_trace(go.Scatter(\n",
    "            x=[None], y=[None], mode='markers',\n",
    "            marker=dict(color=color),\n",
    "            showlegend=True,\n",
    "            name=label\n",
    "        ))\n",
    "\n",
    "    pio.show(fig)  # Use pio.show to display the plot\n",
    "\n",
    "def generate_parameters_with_varied_parameters(z_m1_initial_z_m2_initial_difference_list, V_A2_V_A1_ratios):\n",
    "    parameters_list = []\n",
    "    for z_m1_initial_z_m2_initial_difference in z_m1_initial_z_m2_initial_difference_list:\n",
    "        for V_A2_V_A1 in V_A2_V_A1_ratios:\n",
    "            parameters_dict = Parameters_for_Analysis(base_parameters = base_parameters, V_A1=0.01, V_A2=0.01).__dict__.copy()\n",
    "            parameters_dict['z_m1_initial'] = parameters_dict['z_m2_initial'] + z_m1_initial_z_m2_initial_difference\n",
    "            parameters_dict['V_A2'] = parameters_dict['V_A1'] * V_A2_V_A1\n",
    "            parameters = Parameters_for_Analysis(base_parameters = base_parameters, **parameters_dict)\n",
    "            parameters_list.append(parameters)\n",
    "    return parameters_list\n",
    "\n",
    "def run_sensitivity_analysis(parameters_list):\n",
    "    final_outcomes_list = []\n",
    "    for parameters in parameters_list:\n",
    "        final_outcome_instance = run_simulation_and_get_outcome_instance(parameters)\n",
    "        final_outcomes_list.append(final_outcome_instance.outcome)\n",
    "    return final_outcomes_list\n",
    "\n",
    "\n",
    "\n",
    "def main():\n",
    "    z_m1_initial_z_m2_initial_difference_list = np.arange(0, 1, 0.1)\n",
    "    V_A2_V_A1_powers = np.arange(0, 3, 0.0625)\n",
    "    \n",
    "    V_A2_V_A1_ratios = np.power(10.0, V_A2_V_A1_powers)\n",
    "    \n",
    "    parameters_list = generate_parameters_with_varied_parameters(z_m1_initial_z_m2_initial_difference_list, V_A2_V_A1_ratios)\n",
    "    final_outcomes_list = run_sensitivity_analysis(parameters_list)\n",
    "    \n",
    "    final_outcomes_matrix = np.array(final_outcomes_list).reshape(len(z_m1_initial_z_m2_initial_difference_list), len(V_A2_V_A1_ratios))\n",
    "    \n",
    "    plot_2d_sensitivity_analysis_iniitial_z_vs_evolvability(z_m1_initial_z_m2_initial_difference_list, V_A2_V_A1_ratios, final_outcomes_matrix)\n",
    "\n",
    "if __name__ == \"__main__\":\n",
    "    main()\n"
   ]
  }
 ],
 "metadata": {
  "kernelspec": {
   "display_name": "Python 3",
   "language": "python",
   "name": "python3"
  },
  "language_info": {
   "codemirror_mode": {
    "name": "ipython",
    "version": 3
   },
   "file_extension": ".py",
   "mimetype": "text/x-python",
   "name": "python",
   "nbconvert_exporter": "python",
   "pygments_lexer": "ipython3",
   "version": "3.12.1"
  }
 },
 "nbformat": 4,
 "nbformat_minor": 2
}
